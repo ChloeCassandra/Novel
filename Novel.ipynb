{
  "nbformat": 4,
  "nbformat_minor": 0,
  "metadata": {
    "colab": {
      "name": "Novel",
      "provenance": [],
      "collapsed_sections": []
    },
    "kernelspec": {
      "name": "python3",
      "display_name": "Python 3"
    }
  },
  "cells": [
    {
      "cell_type": "markdown",
      "metadata": {
        "id": "rabQjWW7ulH4",
        "colab_type": "text"
      },
      "source": [
        "### Manual Markovifying:\n",
        "To build the database:\n",
        "1. Select some [text to work](http://www.script-o-rama.com/movie_scripts/a1/bee-movie-script-transcript-seinfeld.html) with.\n",
        "2. Create a spreadsheet\n",
        "3. In column 1 of the sheet, list every unique word that occurs\n",
        "4. In each row, starting with column 2, list every word that occurs after the word in column 1, including duplicates\n",
        "\n",
        "To start building chains:\n",
        "1. Select a random word from the first column\n",
        "2. choose a random word from that word's row\n",
        "3. Find that second word in the first column and continue"
      ]
    },
    {
      "cell_type": "markdown",
      "metadata": {
        "id": "v0FLcxBJ0M_s",
        "colab_type": "text"
      },
      "source": [
        "### OR"
      ]
    },
    {
      "cell_type": "markdown",
      "metadata": {
        "id": "Clyc8DsZ0QKP",
        "colab_type": "text"
      },
      "source": [
        "Use someone else's code"
      ]
    },
    {
      "cell_type": "code",
      "metadata": {
        "id": "cgh9bJOJ0MsV",
        "colab_type": "code",
        "outputId": "b9109e66-cb43-4fb1-e659-b22ae7adad65",
        "colab": {
          "base_uri": "https://localhost:8080/",
          "height": 218
        }
      },
      "source": [
        "# first, install a python package. This one is called \"markovify\"\n",
        "# https://github.com/jsvine/markovify\n",
        "\n",
        "!pip install markovify"
      ],
      "execution_count": 0,
      "outputs": [
        {
          "output_type": "stream",
          "text": [
            "Collecting markovify\n",
            "  Downloading https://files.pythonhosted.org/packages/99/b7/a5cf39283f08c8013623dbcf67063b0215942ae464fc864eca1434d050e1/markovify-0.7.2.tar.gz\n",
            "Collecting unidecode\n",
            "\u001b[?25l  Downloading https://files.pythonhosted.org/packages/d0/42/d9edfed04228bacea2d824904cae367ee9efd05e6cce7ceaaedd0b0ad964/Unidecode-1.1.1-py2.py3-none-any.whl (238kB)\n",
            "\u001b[K     |████████████████████████████████| 245kB 4.1MB/s \n",
            "\u001b[?25hBuilding wheels for collected packages: markovify\n",
            "  Building wheel for markovify (setup.py) ... \u001b[?25l\u001b[?25hdone\n",
            "  Created wheel for markovify: filename=markovify-0.7.2-cp36-none-any.whl size=10307 sha256=ae98cff1e1821f1d1b1125dbb04cadcbc7e0f01c27c7703f5aed3529d0d6aa1c\n",
            "  Stored in directory: /root/.cache/pip/wheels/0c/19/38/b901adb8ab0721a6c8c86f468e48b22f3ecf08560e6aeb99fa\n",
            "Successfully built markovify\n",
            "Installing collected packages: unidecode, markovify\n",
            "Successfully installed markovify-0.7.2 unidecode-1.1.1\n"
          ],
          "name": "stdout"
        }
      ]
    },
    {
      "cell_type": "markdown",
      "metadata": {
        "id": "mnVHQ3Mm1RNT",
        "colab_type": "text"
      },
      "source": [
        ""
      ]
    },
    {
      "cell_type": "code",
      "metadata": {
        "id": "ewsNHRgauhQc",
        "colab_type": "code",
        "outputId": "aba006bb-1cac-48af-d6f0-f7e907a28606",
        "colab": {
          "base_uri": "https://localhost:8080/",
          "height": 490
        }
      },
      "source": [
        "!pip install markovify\n",
        "!pip install weasyprint\n",
        "\n",
        "import markovify\n",
        "from weasyprint import HTML\n",
        "\n",
        "novel = '<p>'\n",
        "with open(\"DPCV.txt\") as f:\n",
        "  text = f.read()\n",
        "\n",
        "text_model = markovify.Text(text)\n",
        "\n",
        "for i in range(3000):\n",
        "    novel += str(text_model.make_sentence()) + \" \"\n",
        "\n",
        "#print(novel)\n",
        "\n",
        "\n",
        "html_template = f\"\"\"\n",
        "<html>\n",
        "  <head>\n",
        "  <title>Detective Pikachu's Christmas Vacation</title>\n",
        "  </head>\n",
        "  <body>\n",
        "  {novel}\n",
        "  </body>\n",
        "</html>\n",
        "\"\"\"\n",
        "\n",
        "HTML(string=html_template).write_pdf(\"Detective Pikachu's Christmas Vacation.pdf\")"
      ],
      "execution_count": 0,
      "outputs": [
        {
          "output_type": "stream",
          "text": [
            "Collecting markovify\n",
            "  Downloading https://files.pythonhosted.org/packages/99/b7/a5cf39283f08c8013623dbcf67063b0215942ae464fc864eca1434d050e1/markovify-0.7.2.tar.gz\n",
            "Collecting unidecode\n",
            "\u001b[?25l  Downloading https://files.pythonhosted.org/packages/d0/42/d9edfed04228bacea2d824904cae367ee9efd05e6cce7ceaaedd0b0ad964/Unidecode-1.1.1-py2.py3-none-any.whl (238kB)\n",
            "\u001b[K     |████████████████████████████████| 245kB 12.3MB/s \n",
            "\u001b[?25hBuilding wheels for collected packages: markovify\n",
            "  Building wheel for markovify (setup.py) ... \u001b[?25l\u001b[?25hdone\n",
            "  Created wheel for markovify: filename=markovify-0.7.2-cp36-none-any.whl size=10307 sha256=244d38e8a414ecc88cbe585e960f7cc8d8ca10edf1ca68c6651f4737ba1528f1\n",
            "  Stored in directory: /root/.cache/pip/wheels/0c/19/38/b901adb8ab0721a6c8c86f468e48b22f3ecf08560e6aeb99fa\n",
            "Successfully built markovify\n",
            "Installing collected packages: unidecode, markovify\n",
            "Successfully installed markovify-0.7.2 unidecode-1.1.1\n",
            "Requirement already satisfied: weasyprint in /usr/local/lib/python3.6/dist-packages (50)\n",
            "Requirement already satisfied: cffi>=0.6 in /usr/local/lib/python3.6/dist-packages (from weasyprint) (1.13.2)\n",
            "Requirement already satisfied: cssselect2>=0.1 in /usr/local/lib/python3.6/dist-packages (from weasyprint) (0.2.2)\n",
            "Requirement already satisfied: tinycss2>=1.0.0 in /usr/local/lib/python3.6/dist-packages (from weasyprint) (1.0.2)\n",
            "Requirement already satisfied: CairoSVG>=2.4.0 in /usr/local/lib/python3.6/dist-packages (from weasyprint) (2.4.2)\n",
            "Requirement already satisfied: Pyphen>=0.8 in /usr/local/lib/python3.6/dist-packages (from weasyprint) (0.9.5)\n",
            "Requirement already satisfied: cairocffi>=0.9.0 in /usr/local/lib/python3.6/dist-packages (from weasyprint) (1.1.0)\n",
            "Requirement already satisfied: setuptools>=39.2.0 in /usr/local/lib/python3.6/dist-packages (from weasyprint) (41.6.0)\n",
            "Requirement already satisfied: html5lib>=0.999999999 in /usr/local/lib/python3.6/dist-packages (from weasyprint) (1.0.1)\n",
            "Requirement already satisfied: pycparser in /usr/local/lib/python3.6/dist-packages (from cffi>=0.6->weasyprint) (2.19)\n",
            "Requirement already satisfied: webencodings>=0.4 in /usr/local/lib/python3.6/dist-packages (from tinycss2>=1.0.0->weasyprint) (0.5.1)\n",
            "Requirement already satisfied: pillow in /usr/local/lib/python3.6/dist-packages (from CairoSVG>=2.4.0->weasyprint) (4.3.0)\n",
            "Requirement already satisfied: defusedxml in /usr/local/lib/python3.6/dist-packages (from CairoSVG>=2.4.0->weasyprint) (0.6.0)\n",
            "Requirement already satisfied: six>=1.9 in /usr/local/lib/python3.6/dist-packages (from html5lib>=0.999999999->weasyprint) (1.12.0)\n",
            "Requirement already satisfied: olefile in /usr/local/lib/python3.6/dist-packages (from pillow->CairoSVG>=2.4.0->weasyprint) (0.46)\n"
          ],
          "name": "stdout"
        }
      ]
    },
    {
      "cell_type": "code",
      "metadata": {
        "id": "KkSCBz7O1ah4",
        "colab_type": "code",
        "colab": {}
      },
      "source": [
        ""
      ],
      "execution_count": 0,
      "outputs": []
    }
  ]
}